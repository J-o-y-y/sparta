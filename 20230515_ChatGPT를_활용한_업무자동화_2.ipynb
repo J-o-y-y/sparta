{
  "nbformat": 4,
  "nbformat_minor": 0,
  "metadata": {
    "colab": {
      "provenance": [],
      "authorship_tag": "ABX9TyPV51WfXwX6XJKg0KHZh57f",
      "include_colab_link": true
    },
    "kernelspec": {
      "name": "python3",
      "display_name": "Python 3"
    },
    "language_info": {
      "name": "python"
    }
  },
  "cells": [
    {
      "cell_type": "markdown",
      "metadata": {
        "id": "view-in-github",
        "colab_type": "text"
      },
      "source": [
        "<a href=\"https://colab.research.google.com/github/J-o-y-y/sparta/blob/main/20230515_ChatGPT%EB%A5%BC_%ED%99%9C%EC%9A%A9%ED%95%9C_%EC%97%85%EB%AC%B4%EC%9E%90%EB%8F%99%ED%99%94_2.ipynb\" target=\"_parent\"><img src=\"https://colab.research.google.com/assets/colab-badge.svg\" alt=\"Open In Colab\"/></a>"
      ]
    },
    {
      "cell_type": "markdown",
      "source": [
        "이메일 주소를 example.com 말고 실제 사용하는 도메인들로 변경해주고, 이름도 고객{i}가 아닌 랜덤한 영어 아이디로 생성하기."
      ],
      "metadata": {
        "id": "5BWOKBtjwADQ"
      }
    },
    {
      "cell_type": "markdown",
      "source": [
        "이를 위해 파이썬의 random과 string 라이브러리를 사용할 수 있습니다. random.choice 함수와 string.ascii_letters를 이용하면 랜덤한 영어 아이디를 생성할 수 있습니다.\n",
        "\n",
        "그리고 이메일 도메인도 미리 정의된 리스트에서 랜덤하게 선택하도록 할 수 있습니다.\n",
        "\n",
        "다음은 그 예시입니다:"
      ],
      "metadata": {
        "id": "X7HP1AM4wK1u"
      }
    },
    {
      "cell_type": "code",
      "execution_count": 1,
      "metadata": {
        "colab": {
          "base_uri": "https://localhost:8080/"
        },
        "id": "M7CnOxh5v_fI",
        "outputId": "1e9a82ed-2b9c-4da1-bf17-515123c04a98"
      },
      "outputs": [
        {
          "output_type": "stream",
          "name": "stdout",
          "text": [
            "TVrgp@aol.com\n",
            "OinGt@gmail.com\n",
            "tRKhF@aol.com\n",
            "hupDj@aol.com\n",
            "jRKaN@aol.com\n",
            "jUXNn@aol.com\n",
            "UQTBr@yahoo.com\n",
            "UwrJz@yahoo.com\n",
            "ytAME@yahoo.com\n",
            "PLKzN@outlook.com\n"
          ]
        }
      ],
      "source": [
        "import random\n",
        "import string\n",
        "\n",
        "# 랜덤한 영어 아이디 생성\n",
        "def get_random_string(length):\n",
        "    letters = string.ascii_letters\n",
        "    result_str = ''.join(random.choice(letters) for i in range(length))\n",
        "    return result_str\n",
        "\n",
        "# 이메일 도메인 리스트\n",
        "domains = [\"gmail.com\", \"yahoo.com\", \"hotmail.com\", \"aol.com\", \"outlook.com\"]\n",
        "\n",
        "# 랜덤 아이디 및 도메인으로 이메일 생성\n",
        "for i in range(10):  # 10개의 이메일을 생성합니다.\n",
        "    random_id = get_random_string(5)  # 5자리 랜덤 아이디를 생성합니다.\n",
        "    random_domain = random.choice(domains)  # 도메인 리스트에서 랜덤하게 선택합니다.\n",
        "    email = f\"{random_id}@{random_domain}\"\n",
        "    print(email)\n"
      ]
    },
    {
      "cell_type": "code",
      "source": [
        "import openpyxl\n",
        "import random\n",
        "import string\n",
        "\n",
        "# 새로운 엑셀 워크북 생성\n",
        "wb = openpyxl.Workbook()\n",
        "\n",
        "# 시트 선택\n",
        "sheet = wb.active\n",
        "\n",
        "# 첫 번째 행에 컬럼 이름 추가\n",
        "sheet.append(['name', 'age', 'e-mail', 'login count', 'purchase count', 'total purchase amount'])\n",
        "\n",
        "# 100명의 데이터 생성\n",
        "for i in range(100):\n",
        "    # 이름 생성 (8자리 영문 소문자)\n",
        "    name = ''.join(random.choices(string.ascii_lowercase, k=8))\n",
        "    age = random.randint(20, 60)\n",
        "    # 이메일 주소 생성 (랜덤 이름 + 실제 도메인)\n",
        "    email_domain = random.choice(['gmail.com', 'naver.com', 'daum.net', 'yahoo.com'])\n",
        "    email = f\"{name}@{email_domain}\"\n",
        "    login_count = random.randint(1, 50)\n",
        "    purchase_count = random.randint(1, 20)\n",
        "    total_purchase_amount = random.randint(10000, 1000000)\n",
        "    data = [name, age, email, login_count, purchase_count, total_purchase_amount]\n",
        "    # 시트에 데이터 추가\n",
        "    sheet.append(data)\n",
        "\n",
        "# 파일 저장\n",
        "wb.save(\"customer_data.xlsx\")"
      ],
      "metadata": {
        "id": "uCu3bCMUwtiD"
      },
      "execution_count": 2,
      "outputs": []
    }
  ]
}