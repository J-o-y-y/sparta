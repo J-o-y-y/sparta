{
  "nbformat": 4,
  "nbformat_minor": 0,
  "metadata": {
    "colab": {
      "provenance": [],
      "authorship_tag": "ABX9TyMqEFia/IgRps53oqRGQ4++",
      "include_colab_link": true
    },
    "kernelspec": {
      "name": "python3",
      "display_name": "Python 3"
    },
    "language_info": {
      "name": "python"
    }
  },
  "cells": [
    {
      "cell_type": "markdown",
      "metadata": {
        "id": "view-in-github",
        "colab_type": "text"
      },
      "source": [
        "<a href=\"https://colab.research.google.com/github/J-o-y-y/sparta/blob/main/20230516_%EB%A9%94%EC%9D%BC%EC%A0%84%EC%86%A1%EC%9E%90%EB%8F%99%ED%99%94ipynb.ipynb\" target=\"_parent\"><img src=\"https://colab.research.google.com/assets/colab-badge.svg\" alt=\"Open In Colab\"/></a>"
      ]
    },
    {
      "cell_type": "code",
      "source": [
        "import openpyxl\n",
        "import smtplib\n",
        "from email.mime.text import MIMEText\n",
        "from email.mime.multipart import MIMEMultipart\n",
        "\n",
        "# Gmail SMTP 서버 설정\n",
        "smtp_server = 'smtp.gmail.com'\n",
        "smtp_port = 587\n",
        "smtp_username = 'test@gmail.com' #여러분들의 실사용 이메일 주소\n",
        "smtp_password = 'email_password' #여러분들의 실사용 이메일 비밀번호\n",
        "\n",
        "# 메일 제목, 본문 내용 등 설정\n",
        "mail_subject = '메일 제목'\n",
        "mail_body = '메일 본문 내용'\n",
        "\n",
        "# Excel 파일에서 이름과 이메일 추출\n",
        "wb = openpyxl.load_workbook('customer_data_test.xlsx')\n",
        "ws = wb['test_name_email']\n",
        "\n",
        "name_list = []\n",
        "email_list = []\n",
        "\n",
        "for row in ws.iter_rows(min_row=2, values_only=True):\n",
        "    name = row[0]\n",
        "    email = row[1]\n",
        "    name_list.append(name)\n",
        "    email_list.append(email)\n",
        "\n",
        "# Gmail 서버 연결 및 메일 전송\n",
        "with smtplib.SMTP(smtp_server, smtp_port) as smtp:\n",
        "    smtp.starttls()\n",
        "    smtp.login(smtp_username, smtp_password)\n",
        "\n",
        "    for name, email in zip(name_list, email_list):\n",
        "        # 메일 생성\n",
        "        message = MIMEMultipart()\n",
        "        message['From'] = smtp_username\n",
        "        message['To'] = email\n",
        "        message['Subject'] = mail_subject\n",
        "\n",
        "        # 메일 본문 추가\n",
        "        message.attach(MIMEText(mail_body))\n",
        "\n",
        "        # 메일 전송\n",
        "        smtp.send_message(message)"
      ],
      "metadata": {
        "colab": {
          "base_uri": "https://localhost:8080/",
          "height": 396
        },
        "id": "8rekQ4e4DtO2",
        "outputId": "dc5f1d82-4a47-4f25-8fea-ffc6308786fd"
      },
      "execution_count": 2,
      "outputs": [
        {
          "output_type": "error",
          "ename": "FileNotFoundError",
          "evalue": "ignored",
          "traceback": [
            "\u001b[0;31m---------------------------------------------------------------------------\u001b[0m",
            "\u001b[0;31mFileNotFoundError\u001b[0m                         Traceback (most recent call last)",
            "\u001b[0;32m<ipython-input-2-34a53e5d4a43>\u001b[0m in \u001b[0;36m<cell line: 17>\u001b[0;34m()\u001b[0m\n\u001b[1;32m     15\u001b[0m \u001b[0;34m\u001b[0m\u001b[0m\n\u001b[1;32m     16\u001b[0m \u001b[0;31m# Excel 파일에서 이름과 이메일 추출\u001b[0m\u001b[0;34m\u001b[0m\u001b[0;34m\u001b[0m\u001b[0m\n\u001b[0;32m---> 17\u001b[0;31m \u001b[0mwb\u001b[0m \u001b[0;34m=\u001b[0m \u001b[0mopenpyxl\u001b[0m\u001b[0;34m.\u001b[0m\u001b[0mload_workbook\u001b[0m\u001b[0;34m(\u001b[0m\u001b[0;34m'customer_data_test.xlsx'\u001b[0m\u001b[0;34m)\u001b[0m\u001b[0;34m\u001b[0m\u001b[0;34m\u001b[0m\u001b[0m\n\u001b[0m\u001b[1;32m     18\u001b[0m \u001b[0mws\u001b[0m \u001b[0;34m=\u001b[0m \u001b[0mwb\u001b[0m\u001b[0;34m[\u001b[0m\u001b[0;34m'test_name_email'\u001b[0m\u001b[0;34m]\u001b[0m\u001b[0;34m\u001b[0m\u001b[0;34m\u001b[0m\u001b[0m\n\u001b[1;32m     19\u001b[0m \u001b[0;34m\u001b[0m\u001b[0m\n",
            "\u001b[0;32m/usr/local/lib/python3.10/dist-packages/openpyxl/reader/excel.py\u001b[0m in \u001b[0;36mload_workbook\u001b[0;34m(filename, read_only, keep_vba, data_only, keep_links)\u001b[0m\n\u001b[1;32m    313\u001b[0m \u001b[0;34m\u001b[0m\u001b[0m\n\u001b[1;32m    314\u001b[0m     \"\"\"\n\u001b[0;32m--> 315\u001b[0;31m     reader = ExcelReader(filename, read_only, keep_vba,\n\u001b[0m\u001b[1;32m    316\u001b[0m                         data_only, keep_links)\n\u001b[1;32m    317\u001b[0m     \u001b[0mreader\u001b[0m\u001b[0;34m.\u001b[0m\u001b[0mread\u001b[0m\u001b[0;34m(\u001b[0m\u001b[0;34m)\u001b[0m\u001b[0;34m\u001b[0m\u001b[0;34m\u001b[0m\u001b[0m\n",
            "\u001b[0;32m/usr/local/lib/python3.10/dist-packages/openpyxl/reader/excel.py\u001b[0m in \u001b[0;36m__init__\u001b[0;34m(self, fn, read_only, keep_vba, data_only, keep_links)\u001b[0m\n\u001b[1;32m    122\u001b[0m     def __init__(self,  fn, read_only=False, keep_vba=KEEP_VBA,\n\u001b[1;32m    123\u001b[0m                   data_only=False, keep_links=True):\n\u001b[0;32m--> 124\u001b[0;31m         \u001b[0mself\u001b[0m\u001b[0;34m.\u001b[0m\u001b[0marchive\u001b[0m \u001b[0;34m=\u001b[0m \u001b[0m_validate_archive\u001b[0m\u001b[0;34m(\u001b[0m\u001b[0mfn\u001b[0m\u001b[0;34m)\u001b[0m\u001b[0;34m\u001b[0m\u001b[0;34m\u001b[0m\u001b[0m\n\u001b[0m\u001b[1;32m    125\u001b[0m         \u001b[0mself\u001b[0m\u001b[0;34m.\u001b[0m\u001b[0mvalid_files\u001b[0m \u001b[0;34m=\u001b[0m \u001b[0mself\u001b[0m\u001b[0;34m.\u001b[0m\u001b[0marchive\u001b[0m\u001b[0;34m.\u001b[0m\u001b[0mnamelist\u001b[0m\u001b[0;34m(\u001b[0m\u001b[0;34m)\u001b[0m\u001b[0;34m\u001b[0m\u001b[0;34m\u001b[0m\u001b[0m\n\u001b[1;32m    126\u001b[0m         \u001b[0mself\u001b[0m\u001b[0;34m.\u001b[0m\u001b[0mread_only\u001b[0m \u001b[0;34m=\u001b[0m \u001b[0mread_only\u001b[0m\u001b[0;34m\u001b[0m\u001b[0;34m\u001b[0m\u001b[0m\n",
            "\u001b[0;32m/usr/local/lib/python3.10/dist-packages/openpyxl/reader/excel.py\u001b[0m in \u001b[0;36m_validate_archive\u001b[0;34m(filename)\u001b[0m\n\u001b[1;32m     94\u001b[0m             \u001b[0;32mraise\u001b[0m \u001b[0mInvalidFileException\u001b[0m\u001b[0;34m(\u001b[0m\u001b[0mmsg\u001b[0m\u001b[0;34m)\u001b[0m\u001b[0;34m\u001b[0m\u001b[0;34m\u001b[0m\u001b[0m\n\u001b[1;32m     95\u001b[0m \u001b[0;34m\u001b[0m\u001b[0m\n\u001b[0;32m---> 96\u001b[0;31m     \u001b[0marchive\u001b[0m \u001b[0;34m=\u001b[0m \u001b[0mZipFile\u001b[0m\u001b[0;34m(\u001b[0m\u001b[0mfilename\u001b[0m\u001b[0;34m,\u001b[0m \u001b[0;34m'r'\u001b[0m\u001b[0;34m)\u001b[0m\u001b[0;34m\u001b[0m\u001b[0;34m\u001b[0m\u001b[0m\n\u001b[0m\u001b[1;32m     97\u001b[0m     \u001b[0;32mreturn\u001b[0m \u001b[0marchive\u001b[0m\u001b[0;34m\u001b[0m\u001b[0;34m\u001b[0m\u001b[0m\n\u001b[1;32m     98\u001b[0m \u001b[0;34m\u001b[0m\u001b[0m\n",
            "\u001b[0;32m/usr/lib/python3.10/zipfile.py\u001b[0m in \u001b[0;36m__init__\u001b[0;34m(self, file, mode, compression, allowZip64, compresslevel, strict_timestamps)\u001b[0m\n\u001b[1;32m   1249\u001b[0m             \u001b[0;32mwhile\u001b[0m \u001b[0;32mTrue\u001b[0m\u001b[0;34m:\u001b[0m\u001b[0;34m\u001b[0m\u001b[0;34m\u001b[0m\u001b[0m\n\u001b[1;32m   1250\u001b[0m                 \u001b[0;32mtry\u001b[0m\u001b[0;34m:\u001b[0m\u001b[0;34m\u001b[0m\u001b[0;34m\u001b[0m\u001b[0m\n\u001b[0;32m-> 1251\u001b[0;31m                     \u001b[0mself\u001b[0m\u001b[0;34m.\u001b[0m\u001b[0mfp\u001b[0m \u001b[0;34m=\u001b[0m \u001b[0mio\u001b[0m\u001b[0;34m.\u001b[0m\u001b[0mopen\u001b[0m\u001b[0;34m(\u001b[0m\u001b[0mfile\u001b[0m\u001b[0;34m,\u001b[0m \u001b[0mfilemode\u001b[0m\u001b[0;34m)\u001b[0m\u001b[0;34m\u001b[0m\u001b[0;34m\u001b[0m\u001b[0m\n\u001b[0m\u001b[1;32m   1252\u001b[0m                 \u001b[0;32mexcept\u001b[0m \u001b[0mOSError\u001b[0m\u001b[0;34m:\u001b[0m\u001b[0;34m\u001b[0m\u001b[0;34m\u001b[0m\u001b[0m\n\u001b[1;32m   1253\u001b[0m                     \u001b[0;32mif\u001b[0m \u001b[0mfilemode\u001b[0m \u001b[0;32min\u001b[0m \u001b[0mmodeDict\u001b[0m\u001b[0;34m:\u001b[0m\u001b[0;34m\u001b[0m\u001b[0;34m\u001b[0m\u001b[0m\n",
            "\u001b[0;31mFileNotFoundError\u001b[0m: [Errno 2] No such file or directory: 'customer_data_test.xlsx'"
          ]
        }
      ]
    },
    {
      "cell_type": "markdown",
      "source": [
        "\n",
        "\n",
        "내 customer_data_test.xlsx 엑셀 파일 내 데이터는 고객에 대한 데이터를 담고 있어. test_name_email 시트에 이름, 이메일로 구성된 컬럼 아래에 데이터가 입력되어 있다. 이 데이터를 꺼내와서 smtplib를 사용하여 모든 고객에게 일괄적으로 메일을 보낼 수 있는 파이썬 자동화 코드 예시를 작성해주세요.\n",
        "\n"
      ],
      "metadata": {
        "id": "REjfNVTxCUnJ"
      }
    },
    {
      "cell_type": "markdown",
      "source": [
        "네, 아래는 요청하신 대로 pandas와 openpyxl을 이용하여 Excel 파일에서 데이터를 읽어오고, smtplib을 사용하여 각각의 고객에게 이메일을 보내는 간단한 파이썬 코드 예시입니다.\n",
        "\n",
        "이 코드는 단순히 메일을 보내는 방법을 보여줄 뿐, 실제 상황에서는 이메일의 내용, 제목 등을 적절하게 수정하고, 보안과 관련된 처리를 해야 합니다."
      ],
      "metadata": {
        "id": "5Edw4Io1Ccl-"
      }
    },
    {
      "cell_type": "code",
      "execution_count": null,
      "metadata": {
        "id": "c4qVTZJTCR_l"
      },
      "outputs": [],
      "source": [
        "import pandas as pd\n",
        "import smtplib\n",
        "from email.mime.multipart import MIMEMultipart\n",
        "from email.mime.text import MIMEText\n",
        "\n",
        "# Excel 파일에서 데이터 읽어오기\n",
        "df = pd.read_excel('customer_data_test.xlsx', sheet_name='test_name_email')\n",
        "\n",
        "# SMTP 서버 설정\n",
        "smtp_server = 'smtp.example.com'  # SMTP 서버 주소를 적절하게 변경해주세요.\n",
        "smtp_port = 587  # SMTP 서버 포트를 적절하게 변경해주세요.\n",
        "\n",
        "# 이메일 계정 정보\n",
        "username = 'your-email@example.com'  # 발신자 이메일 주소를 적절하게 변경해주세요.\n",
        "password = 'your-password'  # 발신자 이메일 비밀번호를 적절하게 변경해주세요.\n",
        "\n",
        "# 이메일 메시지 설정\n",
        "subject = \"Hello from Our Company\"  # 이메일 제목을 적절하게 변경해주세요.\n",
        "body = \"This is a test email. Please ignore.\"  # 이메일 본문을 적절하게 변경해주세요.\n",
        "\n",
        "# SMTP 서버 연결\n",
        "server = smtplib.SMTP(smtp_server, smtp_port)\n",
        "server.starttls()\n",
        "server.login(username, password)\n",
        "\n",
        "# 각 고객에게 이메일 보내기\n",
        "for i in range(len(df)):\n",
        "    msg = MIMEMultipart()\n",
        "    msg['From'] = username\n",
        "    msg['To'] = df['email'][i]  # 이메일 컬럼의 이름을 적절하게 변경해주세요.\n",
        "    msg['Subject'] = subject\n",
        "    msg.attach(MIMEText(body, 'plain'))\n",
        "\n",
        "    server.send_message(msg)\n",
        "\n",
        "# SMTP 서버 연결 종료\n",
        "server.quit()\n"
      ]
    },
    {
      "cell_type": "markdown",
      "source": [
        "내 어플리케이션 이름은 salemale야. 고객의 이름은 <name>이고, 이 고객에게 우리 앱에 10번 이상 로그인 하면 자그마한 선물을 준다고 앱 로그인을 권유하는 마케팅 메일을 써줘. (앱 로그인 횟수는 하루에 1번이 최대야.) 메일 내용을 써주고, smtplib를 이용하여 메일을 보내는 python 코드를 만들어줘."
      ],
      "metadata": {
        "id": "MAW-38paEX7s"
      }
    },
    {
      "cell_type": "markdown",
      "source": [
        "Subject: Get Rewarded for Being Active on Salemale!\n",
        "\n",
        "Dear <name>,\n",
        "\n",
        "We are glad to see you on Salemale! We wanted to let you know about an exciting reward program we have going on. \n",
        "\n",
        "If you log into the Salemale app at least once a day, and hit 10 total logins, we have a little surprise waiting for you. It's our way of saying thank you for being an active part of our community. \n",
        "\n",
        "Remember, you can only log in once per day for this count. So why wait? Log in today and start your journey towards earning that surprise!\n",
        "\n",
        "Warm regards,\n",
        "The Salemale Team\n"
      ],
      "metadata": {
        "id": "3R8R7fOLEoh5"
      }
    },
    {
      "cell_type": "markdown",
      "source": [
        "메일을 smtplib를 이용하여 보내는 파이썬 코드를 작성"
      ],
      "metadata": {
        "id": "xHHQqbOnFZ_U"
      }
    },
    {
      "cell_type": "code",
      "source": [
        "import smtplib\n",
        "from email.mime.multipart import MIMEMultipart\n",
        "from email.mime.text import MIMEText\n",
        "import pandas as pd\n",
        "\n",
        "# Excel 파일에서 데이터 읽어오기\n",
        "df = pd.read_excel('customer_data_test.xlsx', sheet_name='test_name_email')\n",
        "\n",
        "# SMTP 서버 설정\n",
        "smtp_server = 'smtp.example.com'  # SMTP 서버 주소를 변경해주세요.\n",
        "smtp_port = 587  # SMTP 서버 포트를 변경해주세요.\n",
        "\n",
        "# 이메일 계정 정보\n",
        "username = 'your-email@example.com'  # 발신자 이메일 주소를 변경해주세요.\n",
        "password = 'your-password'  # 발신자 이메일 비밀번호를 변경해주세요.\n",
        "\n",
        "# SMTP 서버 연결\n",
        "server = smtplib.SMTP(smtp_server, smtp_port)\n",
        "server.starttls()\n",
        "server.login(username, password)\n",
        "\n",
        "# 각 고객에게 이메일 보내기\n",
        "for i in range(len(df)):\n",
        "    msg = MIMEMultipart()\n",
        "    msg['From'] = username\n",
        "    msg['To'] = df['email'][i]  # 이메일 컬럼의 이름을 변경해주세요.\n",
        "    msg['Subject'] = \"Get Rewarded for Being Active on Salemale!\"\n",
        "\n",
        "    # 이메일 본문\n",
        "    body = f\"\"\"\n",
        "    Dear {df['name'][i]},\n",
        "\n",
        "    We are glad to see you on Salemale! We wanted to let you know about an exciting reward program we have going on. \n",
        "\n",
        "    If you log into the Salemale app at least once a day, and hit 10 total logins, we have a little surprise waiting for you. It's our way of saying thank you for being an active part of our community. \n",
        "\n",
        "    Remember, you can only log in once per day for this count. So why wait? Log in today and start your journey towards earning that surprise!\n",
        "\n",
        "    Warm regards,\n",
        "    The Salemale Team\n",
        "    \"\"\"\n",
        "\n",
        "    msg.attach(MIMEText(body, 'plain'))\n",
        "    server.send_message(msg)\n",
        "\n",
        "# SMTP 서버 연결 종료\n",
        "server.quit()\n"
      ],
      "metadata": {
        "id": "26GsdqBLEptz"
      },
      "execution_count": null,
      "outputs": []
    },
    {
      "cell_type": "markdown",
      "source": [
        "내 어플리케이션 이름은 salemale야. 고객의 이름은 <name>이고, 이 고객에게 우리 앱에서 총 500,000원 이상 구매한 고객에게 올해 VIP로 선정되어 5개의 쿠폰을 선물로 드린다고 감사 메일을 작성해줘. 100만원 이상 구매 고객에게는 또다른 상품이 있으니 꾸준히 많은 사랑 해달라고, 마케팅 메일을 작성해줘. 그리고 smtplib를 이용하여 메일을 보내는 python 코드를 만들어줘."
      ],
      "metadata": {
        "id": "OH9vL7mOF80M"
      }
    },
    {
      "cell_type": "code",
      "source": [
        "import smtplib\n",
        "from email.mime.multipart import MIMEMultipart\n",
        "from email.mime.text import MIMEText\n",
        "import pandas as pd\n",
        "\n",
        "# Excel 파일에서 데이터 읽어오기\n",
        "df = pd.read_excel('customer_data_test.xlsx', sheet_name='test_name_email')\n",
        "\n",
        "# SMTP 서버 설정\n",
        "smtp_server = 'smtp.example.com'  # SMTP 서버 주소를 변경해주세요.\n",
        "smtp_port = 587  # SMTP 서버 포트를 변경해주세요.\n",
        "\n",
        "# 이메일 계정 정보\n",
        "username = 'your-email@example.com'  # 발신자 이메일 주소를 변경해주세요.\n",
        "password = 'your-password'  # 발신자 이메일 비밀번호를 변경해주세요.\n",
        "\n",
        "# SMTP 서버 연결\n",
        "server = smtplib.SMTP(smtp_server, smtp_port)\n",
        "server.starttls()\n",
        "server.login(username, password)\n",
        "\n",
        "# 각 고객에게 이메일 보내기\n",
        "for i in range(len(df)):\n",
        "    msg = MIMEMultipart()\n",
        "    msg['From'] = username\n",
        "    msg['To'] = df['email'][i]  # 이메일 컬럼의 이름을 변경해주세요.\n",
        "    msg['Subject'] = \"Congratulations on Becoming a Salemale VIP!\"\n",
        "\n",
        "    # 이메일 본문\n",
        "    body = f\"\"\"\n",
        "    Dear {df['name'][i]},\n",
        "\n",
        "    We are thrilled to congratulate you on becoming a Salemale VIP! Your total purchases have reached 500,000 KRW, making you one of our most valued customers.\n",
        "\n",
        "    To show our appreciation, we are delighted to offer you five complimentary coupons. It's our small way of saying thank you for your continuous support and trust in Salemale.\n",
        "\n",
        "    We have another surprise for our customers who reach 1,000,000 KRW in total purchases. So, keep loving Salemale and enjoy shopping!\n",
        "\n",
        "    Once again, congratulations, and we look forward to serving you even better.\n",
        "\n",
        "    Warm regards,\n",
        "    The Salemale Team\n",
        "    \"\"\"\n",
        "\n",
        "    msg.attach(MIMEText(body, 'plain'))\n",
        "    server.send_message(msg)\n",
        "\n",
        "# SMTP 서버 연결 종료\n",
        "server.quit()\n"
      ],
      "metadata": {
        "id": "HkG8W9U-F-F9"
      },
      "execution_count": null,
      "outputs": []
    },
    {
      "cell_type": "markdown",
      "source": [
        "내 어플리케이션 이름은 salemale야. 고객의 이름은 <name>이고, 이 고객에게 우리 앱은 5번 구매 시, 10% 추가 할인을 하는 이벤트를 진행하고 있다고 마케팅 메일을 작성해줘. 로그인 이벤트, 총 누적 금액 이벤트, 구매 횟수 이벤트 등 다양한 이벤트는 이벤트 탭에서 확인 가능하니 주기적으로 확인 해달라고 홍보해줘. 그리고 smtplib를 이용하여 메일을 보내는 python 코드를 만들어줘."
      ],
      "metadata": {
        "id": "1Rxd7Jz0GkMr"
      }
    },
    {
      "cell_type": "code",
      "source": [
        "import smtplib\n",
        "from email.mime.multipart import MIMEMultipart\n",
        "from email.mime.text import MIMEText\n",
        "import pandas as pd\n",
        "\n",
        "# Excel 파일에서 데이터 읽어오기\n",
        "df = pd.read_excel('customer_data_test.xlsx', sheet_name='test_name_email')\n",
        "\n",
        "# SMTP 서버 설정\n",
        "smtp_server = 'smtp.example.com'  # SMTP 서버 주소를 변경해주세요.\n",
        "smtp_port = 587  # SMTP 서버 포트를 변경해주세요.\n",
        "\n",
        "# 이메일 계정 정보\n",
        "username = 'your-email@example.com'  # 발신자 이메일 주소를 변경해주세요.\n",
        "password = 'your-password'  # 발신자 이메일 비밀번호를 변경해주세요.\n",
        "\n",
        "# SMTP 서버 연결\n",
        "server = smtplib.SMTP(smtp_server, smtp_port)\n",
        "server.starttls()\n",
        "server.login(username, password)\n",
        "\n",
        "# 각 고객에게 이메일 보내기\n",
        "for i in range(len(df)):\n",
        "    msg = MIMEMultipart()\n",
        "    msg['From'] = username\n",
        "    msg['To'] = df['email'][i]  # 이메일 컬럼의 이름을 변경해주세요.\n",
        "    msg['Subject'] = \"Enjoy More Savings with Salemale's New Event!\"\n",
        "\n",
        "    # 이메일 본문\n",
        "    body = f\"\"\"\n",
        "    Dear {df['name'][i]},\n",
        "\n",
        "    We are excited to announce that Salemale is launching a new event just for you!\n",
        "\n",
        "    From now on, for every 5 purchases you make on our app, we're offering an additional 10% discount as a thank you for your continued support.\n",
        "\n",
        "    But that's not all! We have various events like login rewards, total purchase rewards, and more. Check out our event tab regularly to not miss out on these great benefits.\n",
        "\n",
        "    Enjoy your shopping experience with Salemale, and thank you once again for being a part of our community.\n",
        "\n",
        "    Warm regards,\n",
        "    The Salemale Team\n",
        "    \"\"\"\n",
        "\n",
        "    msg.attach(MIMEText(body, 'plain'))\n",
        "    server.send_message(msg)\n",
        "\n",
        "# SMTP 서버 연결 종료\n",
        "server.quit()\n"
      ],
      "metadata": {
        "id": "mf2YJTR6Gpdt"
      },
      "execution_count": null,
      "outputs": []
    }
  ]
}