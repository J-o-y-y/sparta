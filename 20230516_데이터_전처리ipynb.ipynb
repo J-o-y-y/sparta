{
  "nbformat": 4,
  "nbformat_minor": 0,
  "metadata": {
    "colab": {
      "provenance": [],
      "authorship_tag": "ABX9TyMhzo+c8UjGkoYltghCglaA",
      "include_colab_link": true
    },
    "kernelspec": {
      "name": "python3",
      "display_name": "Python 3"
    },
    "language_info": {
      "name": "python"
    }
  },
  "cells": [
    {
      "cell_type": "markdown",
      "metadata": {
        "id": "view-in-github",
        "colab_type": "text"
      },
      "source": [
        "<a href=\"https://colab.research.google.com/github/J-o-y-y/sparta/blob/main/20230516_%EB%8D%B0%EC%9D%B4%ED%84%B0_%EC%A0%84%EC%B2%98%EB%A6%ACipynb.ipynb\" target=\"_parent\"><img src=\"https://colab.research.google.com/assets/colab-badge.svg\" alt=\"Open In Colab\"/></a>"
      ]
    },
    {
      "cell_type": "markdown",
      "source": [
        "1. login count가 10회 미만인 고객의 name과 e-mail만을 데이터로 추려내어 새로운 시트에 남길 수 있는 자동화 방법이 필요해. VBA를 통해 매크로 형식으로 만든다면 어떻게 해야할까?"
      ],
      "metadata": {
        "id": "NI18C3hT1r-I"
      }
    },
    {
      "cell_type": "code",
      "execution_count": null,
      "metadata": {
        "id": "hhfsB6Hm1ku4"
      },
      "outputs": [],
      "source": [
        "Sub FilterAndCopyData()\n",
        "\n",
        "    Dim srcSheet As Worksheet\n",
        "    Dim destSheet As Worksheet\n",
        "    Dim lastRow As Long\n",
        "    Dim rng As Range\n",
        "    \n",
        "    ' 원본 데이터가 있는 시트와 새로운 시트 설정\n",
        "    Set srcSheet = ThisWorkbook.Sheets(\"Sheet1\")\n",
        "    Set destSheet = ThisWorkbook.Sheets(\"Sheet2\")\n",
        "    \n",
        "    ' 원본 데이터 시트에서 마지막 행 찾기\n",
        "    lastRow = srcSheet.Cells(srcSheet.Rows.Count, \"A\").End(xlUp).Row\n",
        "    \n",
        "    ' 필터를 적용할 범위 설정\n",
        "    Set rng = srcSheet.Range(\"A1:C\" & lastRow) ' A: name, B: email, C: login count라고 가정\n",
        "    \n",
        "    ' 필터 설정 및 적용\n",
        "    rng.AutoFilter Field:=3, Criteria1:=\"<10\" ' 3번째 열 (login count)에 대해 10 미만 필터 적용\n",
        "    \n",
        "    ' 필터링된 데이터를 새로운 시트로 복사\n",
        "    rng.SpecialCells(xlCellTypeVisible).Copy destSheet.Range(\"A1\")\n",
        "    \n",
        "    ' 필터 해제\n",
        "    srcSheet.AutoFilterMode = False\n",
        "\n",
        "End Sub\n"
      ]
    },
    {
      "cell_type": "markdown",
      "source": [
        "VBA를 이용하여 Excel에서 매크로를 작성하는 방법을 알려드리겠습니다. 아래의 예시는 원본 데이터가 'Sheet1'에 위치하고, 이 데이터 중 login count가 10 미만인 고객의 name과 e-mail 정보를 'Sheet2'에 복사하는 코드입니다.\n",
        "\n",
        "위의 코드는 열의 구조가 다음과 같다고 가정하고 작성되었습니다:\n",
        "\n",
        "A: name\n",
        "B: email\n",
        "C: login count\n",
        "원하는 열의 위치가 다르다면, 코드의 rng 및 AutoFilter 부분을 적절히 수정해주시면 됩니다. 또한, 이 코드는 워크북에 이미 'Sheet1'과 'Sheet2'가 존재한다고 가정하고 있으니, 실제로 이러한 시트가 존재하는지 확인해주세요."
      ],
      "metadata": {
        "id": "r7O6oM2O1vaH"
      }
    },
    {
      "cell_type": "markdown",
      "source": [
        "2. total purchase amount이 500000 이상인 고객의 name과 e-mail 만을 데이터로 추려내어 새로운 시트에 남길 수 있는 자동화 방법이 필요해. VBA를 통해 매크로 형식으로 만든다면 어떻게 해야할까?"
      ],
      "metadata": {
        "id": "fUFg1rzM13PO"
      }
    },
    {
      "cell_type": "code",
      "source": [
        "Sub FilterAndCopyData()\n",
        "\n",
        "    Dim srcSheet As Worksheet\n",
        "    Dim destSheet As Worksheet\n",
        "    Dim lastRow As Long\n",
        "    Dim rng As Range\n",
        "    \n",
        "    ' 원본 데이터가 있는 시트와 새로운 시트 설정\n",
        "    Set srcSheet = ThisWorkbook.Sheets(\"Sheet1\")\n",
        "    Set destSheet = ThisWorkbook.Sheets(\"Sheet2\")\n",
        "    \n",
        "    ' 원본 데이터 시트에서 마지막 행 찾기\n",
        "    lastRow = srcSheet.Cells(srcSheet.Rows.Count, \"A\").End(xlUp).Row\n",
        "    \n",
        "    ' 필터를 적용할 범위 설정\n",
        "    Set rng = srcSheet.Range(\"A1:C\" & lastRow) ' A: name, B: email, C: total purchase amount라고 가정\n",
        "    \n",
        "    ' 필터 설정 및 적용\n",
        "    rng.AutoFilter Field:=3, Criteria1:=\">=500000\" ' 3번째 열 (total purchase amount)에 대해 500000 이상 필터 적용\n",
        "    \n",
        "    ' 필터링된 데이터를 새로운 시트로 복사\n",
        "    rng.SpecialCells(xlCellTypeVisible).Copy destSheet.Range(\"A1\")\n",
        "    \n",
        "    ' 필터 해제\n",
        "    srcSheet.AutoFilterMode = False\n",
        "\n",
        "End Sub\n"
      ],
      "metadata": {
        "id": "UBlcNGod4oeU"
      },
      "execution_count": null,
      "outputs": []
    },
    {
      "cell_type": "markdown",
      "source": [
        "위의 코드는 열의 구조가 다음과 같다고 가정하고 작성되었습니다:\n",
        "\n",
        "A: name\n",
        "B: email\n",
        "C: total purchase amount\n",
        "만약 데이터의 열 구조가 다르다면, rng 및 AutoFilter 부분을 적절히 수정해주시면 됩니다. 또한, 이 코드는 워크북에 이미 'Sheet1'과 'Sheet2'가 존재한다고 가정하고 있으니, 실제로 이러한 시트가 존재하는지 확인해주세요."
      ],
      "metadata": {
        "id": "lqb6hcxG4wqR"
      }
    },
    {
      "cell_type": "markdown",
      "source": [
        "3. age가 20~50 사이인 고객 중 물건 구매를 4번 이하로 한 고객의 name과 e-mail만을 데이터로 추려내어 새로운 시트에 남길 수 있는 자동화 방법이 필요해. VBA를 통해 매크로 형식으로 만든다면 어떻게 해야할까?"
      ],
      "metadata": {
        "id": "u2x7hxVL44xf"
      }
    },
    {
      "cell_type": "code",
      "source": [
        "Sub FilterAndCopyData()\n",
        "\n",
        "    Dim srcSheet As Worksheet\n",
        "    Dim destSheet As Worksheet\n",
        "    Dim lastRow As Long\n",
        "    Dim rng As Range\n",
        "    \n",
        "    ' 원본 데이터가 있는 시트와 새로운 시트 설정\n",
        "    Set srcSheet = ThisWorkbook.Sheets(\"Sheet1\")\n",
        "    Set destSheet = ThisWorkbook.Sheets(\"Sheet2\")\n",
        "    \n",
        "    ' 원본 데이터 시트에서 마지막 행 찾기\n",
        "    lastRow = srcSheet.Cells(srcSheet.Rows.Count, \"A\").End(xlUp).Row\n",
        "    \n",
        "    ' 필터를 적용할 범위 설정\n",
        "    Set rng = srcSheet.Range(\"A1:D\" & lastRow) ' A: name, B: email, C: age, D: purchase count라고 가정\n",
        "    \n",
        "    ' 필터 설정 및 적용\n",
        "    With rng\n",
        "        .AutoFilter Field:=3, Criteria1:=\">=20\", Operator:=xlAnd, Criteria2:=\"<=50\" ' 3번째 열 (age)에 대해 20~50 사이 필터 적용\n",
        "        .AutoFilter Field:=4, Criteria1:=\"<=4\" ' 4번째 열 (purchase count)에 대해 4 이하 필터 적용\n",
        "    End With\n",
        "    \n",
        "    ' 필터링된 데이터를 새로운 시트로 복사\n",
        "    rng.SpecialCells(xlCellTypeVisible).Copy destSheet.Range(\"A1\")\n",
        "    \n",
        "    ' 필터 해제\n",
        "    srcSheet.AutoFilterMode = False\n",
        "\n",
        "End Sub\n"
      ],
      "metadata": {
        "id": "FAkhDPOC44VN"
      },
      "execution_count": null,
      "outputs": []
    },
    {
      "cell_type": "markdown",
      "source": [
        "위의 코드는 열의 구조가 다음과 같다고 가정하고 작성되었습니다:\n",
        "\n",
        "A: name\n",
        "B: email\n",
        "C: age\n",
        "D: purchase count\n",
        "만약 데이터의 열 구조가 다르다면, rng 및 AutoFilter 부분을 적절히 수정해주시면 됩니다. 또한, 이 코드는 워크북에 이미 'Sheet1'과 'Sheet2'가 존재한다고 가정하고 있으니, 실제로 이러한 시트가 존재하는지 확인해주세요."
      ],
      "metadata": {
        "id": "zEzUSLYw5n0y"
      }
    }
  ]
}